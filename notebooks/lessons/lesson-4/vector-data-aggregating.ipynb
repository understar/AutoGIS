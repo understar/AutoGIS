{
 "cells": [
  {
   "cell_type": "markdown",
   "id": "abc40def",
   "metadata": {},
   "source": [
    "# Aggregating data\n",
    "\n",
    "Data aggregation refers to a process where we combine data into groups. When\n",
    "doing spatial data aggregation, we merge the geometries together into coarser\n",
    "units (based on some attribute), and can also calculate summary statistics for\n",
    "these combined geometries from the original, more detailed values. For example,\n",
    "suppose that we are interested in studying continents, but we only have\n",
    "country-level data like the country dataset. If we aggregate the data by\n",
    "continent, we would convert the country-level data into a continent-level\n",
    "dataset.\n",
    "\n",
    "In this tutorial, we will aggregate our travel time data by car travel times\n",
    "(column `car_r_t`), i.e. the grid cells that have the same travel time to\n",
    "Railway Station will be merged together.\n",
    "\n",
    "Let’s start with loading `intersection.gpkg`, the output file of the\n",
    "[previous section](overlay-analysis):"
   ]
  },
  {
   "cell_type": "code",
   "execution_count": 1,
   "id": "a403c5a4",
   "metadata": {},
   "outputs": [],
   "source": [
    "import pathlib \n",
    "NOTEBOOK_PATH = pathlib.Path().resolve()\n",
    "DATA_DIRECTORY = NOTEBOOK_PATH / \"data\""
   ]
  },
  {
   "cell_type": "code",
   "execution_count": 2,
   "id": "f378228b",
   "metadata": {},
   "outputs": [],
   "source": [
    "import geopandas\n",
    "intersection = geopandas.read_file(DATA_DIRECTORY / \"intersection.gpkg\")"
   ]
  },
  {
   "cell_type": "markdown",
   "id": "6693e43e",
   "metadata": {},
   "source": [
    "For doing the aggregation we will use a method called `dissolve()` that takes\n",
    "as input the column that will be used for conducting the aggregation:"
   ]
  },
  {
   "cell_type": "code",
   "execution_count": 3,
   "id": "77c910f3",
   "metadata": {},
   "outputs": [
    {
     "data": {
      "text/html": [
       "<div>\n",
       "<style scoped>\n",
       "    .dataframe tbody tr th:only-of-type {\n",
       "        vertical-align: middle;\n",
       "    }\n",
       "\n",
       "    .dataframe tbody tr th {\n",
       "        vertical-align: top;\n",
       "    }\n",
       "\n",
       "    .dataframe thead th {\n",
       "        text-align: right;\n",
       "    }\n",
       "</style>\n",
       "<table border=\"1\" class=\"dataframe\">\n",
       "  <thead>\n",
       "    <tr style=\"text-align: right;\">\n",
       "      <th></th>\n",
       "      <th>geometry</th>\n",
       "      <th>car_m_d</th>\n",
       "      <th>car_m_t</th>\n",
       "      <th>car_r_d</th>\n",
       "      <th>from_id</th>\n",
       "      <th>pt_m_d</th>\n",
       "      <th>pt_m_t</th>\n",
       "      <th>pt_m_tt</th>\n",
       "      <th>pt_r_d</th>\n",
       "      <th>pt_r_t</th>\n",
       "      <th>pt_r_tt</th>\n",
       "      <th>to_id</th>\n",
       "      <th>walk_d</th>\n",
       "      <th>walk_t</th>\n",
       "      <th>GML_ID</th>\n",
       "      <th>NAMEFIN</th>\n",
       "      <th>NAMESWE</th>\n",
       "      <th>NATCODE</th>\n",
       "    </tr>\n",
       "    <tr>\n",
       "      <th>car_r_t</th>\n",
       "      <th></th>\n",
       "      <th></th>\n",
       "      <th></th>\n",
       "      <th></th>\n",
       "      <th></th>\n",
       "      <th></th>\n",
       "      <th></th>\n",
       "      <th></th>\n",
       "      <th></th>\n",
       "      <th></th>\n",
       "      <th></th>\n",
       "      <th></th>\n",
       "      <th></th>\n",
       "      <th></th>\n",
       "      <th></th>\n",
       "      <th></th>\n",
       "      <th></th>\n",
       "      <th></th>\n",
       "    </tr>\n",
       "  </thead>\n",
       "  <tbody>\n",
       "    <tr>\n",
       "      <th>-1</th>\n",
       "      <td>MULTIPOLYGON (((384750.000 6670000.000, 384500...</td>\n",
       "      <td>-1</td>\n",
       "      <td>-1</td>\n",
       "      <td>-1</td>\n",
       "      <td>5913094</td>\n",
       "      <td>-1</td>\n",
       "      <td>-1</td>\n",
       "      <td>-1</td>\n",
       "      <td>-1</td>\n",
       "      <td>-1</td>\n",
       "      <td>-1</td>\n",
       "      <td>-1</td>\n",
       "      <td>-1</td>\n",
       "      <td>-1</td>\n",
       "      <td>27517366</td>\n",
       "      <td>Helsinki</td>\n",
       "      <td>Helsingfors</td>\n",
       "      <td>091</td>\n",
       "    </tr>\n",
       "    <tr>\n",
       "      <th>0</th>\n",
       "      <td>POLYGON ((385750.000 6672000.000, 385750.000 6...</td>\n",
       "      <td>0</td>\n",
       "      <td>0</td>\n",
       "      <td>0</td>\n",
       "      <td>5975375</td>\n",
       "      <td>0</td>\n",
       "      <td>0</td>\n",
       "      <td>0</td>\n",
       "      <td>0</td>\n",
       "      <td>0</td>\n",
       "      <td>0</td>\n",
       "      <td>5975375</td>\n",
       "      <td>0</td>\n",
       "      <td>0</td>\n",
       "      <td>27517366</td>\n",
       "      <td>Helsinki</td>\n",
       "      <td>Helsingfors</td>\n",
       "      <td>091</td>\n",
       "    </tr>\n",
       "    <tr>\n",
       "      <th>7</th>\n",
       "      <td>POLYGON ((386250.000 6671750.000, 386000.000 6...</td>\n",
       "      <td>1051</td>\n",
       "      <td>7</td>\n",
       "      <td>1051</td>\n",
       "      <td>5973739</td>\n",
       "      <td>617</td>\n",
       "      <td>5</td>\n",
       "      <td>6</td>\n",
       "      <td>617</td>\n",
       "      <td>5</td>\n",
       "      <td>6</td>\n",
       "      <td>5975375</td>\n",
       "      <td>448</td>\n",
       "      <td>6</td>\n",
       "      <td>27517366</td>\n",
       "      <td>Helsinki</td>\n",
       "      <td>Helsingfors</td>\n",
       "      <td>091</td>\n",
       "    </tr>\n",
       "    <tr>\n",
       "      <th>8</th>\n",
       "      <td>MULTIPOLYGON (((386000.000 6671500.000, 385750...</td>\n",
       "      <td>1286</td>\n",
       "      <td>8</td>\n",
       "      <td>1286</td>\n",
       "      <td>5973736</td>\n",
       "      <td>706</td>\n",
       "      <td>10</td>\n",
       "      <td>10</td>\n",
       "      <td>706</td>\n",
       "      <td>10</td>\n",
       "      <td>10</td>\n",
       "      <td>5975375</td>\n",
       "      <td>706</td>\n",
       "      <td>10</td>\n",
       "      <td>27517366</td>\n",
       "      <td>Helsinki</td>\n",
       "      <td>Helsingfors</td>\n",
       "      <td>091</td>\n",
       "    </tr>\n",
       "    <tr>\n",
       "      <th>9</th>\n",
       "      <td>MULTIPOLYGON (((385000.000 6671250.000, 385000...</td>\n",
       "      <td>1871</td>\n",
       "      <td>9</td>\n",
       "      <td>1871</td>\n",
       "      <td>5970457</td>\n",
       "      <td>1384</td>\n",
       "      <td>11</td>\n",
       "      <td>13</td>\n",
       "      <td>1394</td>\n",
       "      <td>11</td>\n",
       "      <td>12</td>\n",
       "      <td>5975375</td>\n",
       "      <td>1249</td>\n",
       "      <td>18</td>\n",
       "      <td>27517366</td>\n",
       "      <td>Helsinki</td>\n",
       "      <td>Helsingfors</td>\n",
       "      <td>091</td>\n",
       "    </tr>\n",
       "  </tbody>\n",
       "</table>\n",
       "</div>"
      ],
      "text/plain": [
       "                                                  geometry  car_m_d  car_m_t  \\\n",
       "car_r_t                                                                        \n",
       "-1       MULTIPOLYGON (((384750.000 6670000.000, 384500...       -1       -1   \n",
       " 0       POLYGON ((385750.000 6672000.000, 385750.000 6...        0        0   \n",
       " 7       POLYGON ((386250.000 6671750.000, 386000.000 6...     1051        7   \n",
       " 8       MULTIPOLYGON (((386000.000 6671500.000, 385750...     1286        8   \n",
       " 9       MULTIPOLYGON (((385000.000 6671250.000, 385000...     1871        9   \n",
       "\n",
       "         car_r_d  from_id  pt_m_d  pt_m_t  pt_m_tt  pt_r_d  pt_r_t  pt_r_tt  \\\n",
       "car_r_t                                                                       \n",
       "-1            -1  5913094      -1      -1       -1      -1      -1       -1   \n",
       " 0             0  5975375       0       0        0       0       0        0   \n",
       " 7          1051  5973739     617       5        6     617       5        6   \n",
       " 8          1286  5973736     706      10       10     706      10       10   \n",
       " 9          1871  5970457    1384      11       13    1394      11       12   \n",
       "\n",
       "           to_id  walk_d  walk_t    GML_ID   NAMEFIN      NAMESWE NATCODE  \n",
       "car_r_t                                                                    \n",
       "-1            -1      -1      -1  27517366  Helsinki  Helsingfors     091  \n",
       " 0       5975375       0       0  27517366  Helsinki  Helsingfors     091  \n",
       " 7       5975375     448       6  27517366  Helsinki  Helsingfors     091  \n",
       " 8       5975375     706      10  27517366  Helsinki  Helsingfors     091  \n",
       " 9       5975375    1249      18  27517366  Helsinki  Helsingfors     091  "
      ]
     },
     "execution_count": 3,
     "metadata": {},
     "output_type": "execute_result"
    }
   ],
   "source": [
    "dissolved = intersection.dissolve(by=\"car_r_t\")\n",
    "\n",
    "dissolved.head()"
   ]
  },
  {
   "cell_type": "markdown",
   "id": "4e7c17ef",
   "metadata": {},
   "source": [
    "Let’s compare the number of cells in the layers before and after the\n",
    "aggregation:"
   ]
  },
  {
   "cell_type": "code",
   "execution_count": 4,
   "id": "d5384910",
   "metadata": {},
   "outputs": [
    {
     "name": "stdout",
     "output_type": "stream",
     "text": [
      "3826 51\n"
     ]
    }
   ],
   "source": [
    "print(len(intersection), len(dissolved))"
   ]
  },
  {
   "cell_type": "markdown",
   "id": "a0e36673",
   "metadata": {},
   "source": [
    "Indeed the number of rows in our data has decreased and the Polygons were\n",
    "merged together.\n",
    "\n",
    "What actually happened here? Let's take a closer look. \n",
    "\n",
    "Let's see what columns we have now in our GeoDataFrame:"
   ]
  },
  {
   "cell_type": "code",
   "execution_count": 5,
   "id": "5974abc2",
   "metadata": {},
   "outputs": [
    {
     "name": "stdout",
     "output_type": "stream",
     "text": [
      "Index(['car_m_d', 'car_m_t', 'car_r_d', 'car_r_t', 'from_id', 'pt_m_d',\n",
      "       'pt_m_t', 'pt_m_tt', 'pt_r_d', 'pt_r_t', 'pt_r_tt', 'to_id', 'walk_d',\n",
      "       'walk_t', 'GML_ID', 'NAMEFIN', 'NAMESWE', 'NATCODE', 'geometry'],\n",
      "      dtype='object') Index(['geometry', 'car_m_d', 'car_m_t', 'car_r_d', 'from_id', 'pt_m_d',\n",
      "       'pt_m_t', 'pt_m_tt', 'pt_r_d', 'pt_r_t', 'pt_r_tt', 'to_id', 'walk_d',\n",
      "       'walk_t', 'GML_ID', 'NAMEFIN', 'NAMESWE', 'NATCODE'],\n",
      "      dtype='object')\n"
     ]
    }
   ],
   "source": [
    "print(intersection.columns, dissolved.columns)\n",
    "# car_r_t is disappear"
   ]
  },
  {
   "cell_type": "markdown",
   "id": "9c154bdf",
   "metadata": {},
   "source": [
    "As we can see, the column that we used for conducting the aggregation\n",
    "(`car_r_t`) can not be found from the columns list anymore. What happened to\n",
    "it?\n",
    "\n",
    "Let’s take a look at the indices of our GeoDataFrame:"
   ]
  },
  {
   "cell_type": "code",
   "execution_count": 6,
   "id": "84ebf623",
   "metadata": {},
   "outputs": [
    {
     "data": {
      "text/plain": [
       "Index([-1,  0,  7,  8,  9, 10, 11, 12, 13, 14, 15, 16, 17, 18, 19, 20, 21, 22,\n",
       "       23, 24, 25, 26, 27, 28, 29, 30, 31, 32, 33, 34, 35, 36, 37, 38, 39, 40,\n",
       "       41, 42, 43, 44, 45, 46, 47, 48, 49, 50, 51, 52, 53, 54, 56],\n",
       "      dtype='int64', name='car_r_t')"
      ]
     },
     "execution_count": 6,
     "metadata": {},
     "output_type": "execute_result"
    }
   ],
   "source": [
    "dissolved.index"
   ]
  },
  {
   "cell_type": "markdown",
   "id": "ba3604a9",
   "metadata": {},
   "source": [
    "Aha! Well now we understand where our column went. It is now used as index in\n",
    "our `dissolved` GeoDataFrame. \n",
    "\n",
    "Now, we can for example select only such geometries from the layer that are for\n",
    "example exactly 15 minutes away from the Helsinki Railway Station:"
   ]
  },
  {
   "cell_type": "code",
   "execution_count": 7,
   "id": "d3ae90fa",
   "metadata": {},
   "outputs": [
    {
     "data": {
      "text/plain": [
       "geometry    MULTIPOLYGON (((384000.00013620744 6670750.000...\n",
       "car_m_d                                                  7458\n",
       "car_m_t                                                    13\n",
       "car_r_d                                                  7458\n",
       "from_id                                               5934913\n",
       "pt_m_d                                                   6858\n",
       "pt_m_t                                                     26\n",
       "pt_m_tt                                                    30\n",
       "pt_r_d                                                   6858\n",
       "pt_r_t                                                     27\n",
       "pt_r_tt                                                    32\n",
       "to_id                                                 5975375\n",
       "walk_d                                                   6757\n",
       "walk_t                                                     97\n",
       "GML_ID                                               27517366\n",
       "NAMEFIN                                              Helsinki\n",
       "NAMESWE                                           Helsingfors\n",
       "NATCODE                                                   091\n",
       "Name: 15, dtype: object"
      ]
     },
     "execution_count": 7,
     "metadata": {},
     "output_type": "execute_result"
    }
   ],
   "source": [
    "dissolved.loc[15]"
   ]
  },
  {
   "cell_type": "code",
   "execution_count": 8,
   "id": "3a6ffd69",
   "metadata": {},
   "outputs": [
    {
     "data": {
      "text/plain": [
       "pandas.core.series.Series"
      ]
     },
     "execution_count": 8,
     "metadata": {},
     "output_type": "execute_result"
    }
   ],
   "source": [
    "type(_)"
   ]
  },
  {
   "cell_type": "code",
   "execution_count": 11,
   "id": "db343b8b",
   "metadata": {},
   "outputs": [],
   "source": []
  },
  {
   "cell_type": "markdown",
   "id": "fe871e1b",
   "metadata": {},
   "source": [
    "As we can see, as a result, we have now a Pandas `Series` object containing\n",
    "basically one row from our original aggregated GeoDataFrame.\n",
    "\n",
    "Let’s also visualize those 15 minute grid cells.\n",
    "\n",
    "First, we need to convert the selected row back to a GeoDataFrame:"
   ]
  },
  {
   "cell_type": "code",
   "execution_count": null,
   "id": "837478b6",
   "metadata": {},
   "outputs": [],
   "source": [
    "selection = geopandas.GeoDataFrame(data=[dissolved.loc[15]], crs=dissolved.crs)"
   ]
  },
  {
   "cell_type": "markdown",
   "id": "1b667fdb",
   "metadata": {},
   "source": [
    "Plot the selection on top of the entire grid:"
   ]
  },
  {
   "cell_type": "code",
   "execution_count": 12,
   "id": "4eed5bd2",
   "metadata": {},
   "outputs": [
    {
     "data": {
      "text/plain": [
       "<Axes: >"
      ]
     },
     "execution_count": 12,
     "metadata": {},
     "output_type": "execute_result"
    },
    {
     "data": {
      "image/png": "[encoded data removed]",
      "text/plain": [
       "<Figure size 640x480 with 1 Axes>"
      ]
     },
     "metadata": {},
     "output_type": "display_data"
    }
   ],
   "source": [
    "\n",
    "ax = dissolved.plot(facecolor=\"gray\")\n",
    "selection.plot(ax=ax, facecolor=\"red\")"
   ]
  },
  {
   "cell_type": "markdown",
   "id": "eab57c25",
   "metadata": {},
   "source": [
    "Another way to visualize the travel times in the entire GeoDataFrame is to plot using one specific column. In order to use our `car_r_t` column, which is now the index of the GeoDataFrame, we need to reset the index:"
   ]
  },
  {
   "cell_type": "code",
   "execution_count": 13,
   "id": "a1b714fe",
   "metadata": {},
   "outputs": [
    {
     "data": {
      "text/plain": [
       "Index(['car_r_t', 'geometry', 'car_m_d', 'car_m_t', 'car_r_d', 'from_id',\n",
       "       'pt_m_d', 'pt_m_t', 'pt_m_tt', 'pt_r_d', 'pt_r_t', 'pt_r_tt', 'to_id',\n",
       "       'walk_d', 'walk_t', 'GML_ID', 'NAMEFIN', 'NAMESWE', 'NATCODE'],\n",
       "      dtype='object')"
      ]
     },
     "execution_count": 13,
     "metadata": {},
     "output_type": "execute_result"
    }
   ],
   "source": [
    "dissolved.reset_index(inplace=True)\n",
    "dissolved.columns"
   ]
  },
  {
   "cell_type": "markdown",
   "id": "be428696",
   "metadata": {},
   "source": [
    "As we can see, we now have our `car_r_t` as a column again, and can then plot the GeoDataFrame passing this column using the `column` parameter:"
   ]
  },
  {
   "cell_type": "code",
   "execution_count": 14,
   "id": "96f0f780",
   "metadata": {},
   "outputs": [
    {
     "data": {
      "text/plain": [
       "<Axes: >"
      ]
     },
     "execution_count": 14,
     "metadata": {},
     "output_type": "execute_result"
    },
    {
     "data": {
      "image/png": "[encoded data removed]",
      "text/plain": [
       "<Figure size 640x480 with 1 Axes>"
      ]
     },
     "metadata": {},
     "output_type": "display_data"
    }
   ],
   "source": [
    "dissolved.plot(column=\"car_r_t\")"
   ]
  },
  {
   "cell_type": "markdown",
   "id": "f380fc09",
   "metadata": {},
   "source": [
    "% ## Practical example: hospital districts\n",
    "% \n",
    "% In this tutorial, we will create boundaries of Finnish hospital districts\n",
    "% (*sairaanhoitopiiri* in Finnish) by dissolving municipality boundaries into\n",
    "% larger entities. Main processing steps include a table join and dissolving the\n",
    "% municipality geometries into larger entities.\n",
    "% \n",
    "% We will combine information from [municipality\n",
    "% polygons](https://www.stat.fi/org/avoindata/paikkatietoaineistot/vaesto_tilastointialueittain.html)\n",
    "% from Statistics Finland and a [list of health care\n",
    "% districts](https://www.kuntaliitto.fi/sosiaali-ja-terveysasiat/sairaanhoitopiirien-jasenkunnat)\n",
    "% by the Finnish Municipality authority Kuntaliitto.\n",
    "% \n",
    "% \n",
    "% Importing required python packages:\n",
    "% \n",
    "% ```{code-cell}\n",
    "% import json\n",
    "% import numpy\n",
    "% import pandas\n",
    "% import geopandas\n",
    "% import pyproj\n",
    "% import matplotlib.pyplot as plt\n",
    "% ```\n",
    "% \n",
    "% \n",
    "% ## Read in data\n",
    "% \n",
    "% - **Municipality polygons** from Statistics Finland web feature service: https://www.stat.fi/org/avoindata/paikkatietoaineistot/kuntapohjaiset_tilastointialueet.html\n",
    "%     - wfs: http://geo.stat.fi/geoserver/tilastointialueet/wfs?\n",
    "%     - feature: `tilastointialueet:kunta1000k` (most recent information about municipality polygons)\n",
    "% \n",
    "% ```{code-cell}\n",
    "% # For available features, see http://geo.stat.fi/geoserver/tilastointialueet/wfs?request=GetCapabilities\n",
    "% url = (\n",
    "%     \"http://geo.stat.fi/geoserver/tilastointialueet/wfs\"\n",
    "%     \"?request=GetFeature\"\n",
    "%     \"&typename=tilastointialueet:kunta1000k\"\n",
    "%     \"&outputformat=JSON\"\n",
    "% )\n",
    "% geodata = geopandas.read_file(url)\n",
    "% ```\n",
    "% \n",
    "% ```{code-cell}\n",
    "% geodata.head()\n",
    "% ```\n",
    "% \n",
    "% ```{code-cell}\n",
    "% # Check length (there are 309 municipalities in Finland in 2022)\n",
    "% len(geodata)\n",
    "% ```\n",
    "% \n",
    "% ```{code-cell}\n",
    "% #Select and rename columns\n",
    "% geodata.rename(columns={'kunta':'code'}, inplace=True)\n",
    "% geodata = geodata[['code','name', 'geometry']]\n",
    "% geodata.head()\n",
    "% ```\n",
    "% \n",
    "% ```{code-cell}\n",
    "% geodata.plot()\n",
    "% ```\n",
    "% \n",
    "% ```{code-cell}\n",
    "% geodata.dtypes\n",
    "% ```\n",
    "% \n",
    "% - **Finnish municipalities with hospital district information** as an Excel spreadsheet \n",
    "%     - Downloaded from: https://www.kuntaliitto.fi/sosiaali-ja-terveysasiat/sairaanhoitopiirien-jasenkunnat in March 2020. \n",
    "%     - File `Shp_jäsenkunnat_2020.xls`, sheet `kunnat_shp_2020_ aakkosjärj.` This is the original unaltered file.\n",
    "%     - In this file, \"shp\" stands for \"sairaanhoitopiiri\" (hospital district in Finnish)\n",
    "%     \n",
    "% *Note: this data set does not include Åland (Ahvenanmaa). Åland municipalities are added in the later step.*\n",
    "% *Note: \"hospital districts\" is a more proper translation to sairaanhoitopiirit, but in this lesson I use \"health care districts\" to refer to these entities*\n",
    "% \n",
    "% Excel files often come with additional formatting such as metadata on the first lines of the data array. This is why it is a good idea to download the file on your own computer and have a look at the data structure before reading in the file using Python.\n",
    "% It is also often a good idea to save the file as a csv file before reading in the data. However, it is also possible to read in data directly from Excel. For this, you need to have the xlrd module installed:\n",
    "% \n",
    "% ```\n",
    "% conda install -c conda-forge xlrd\n",
    "% ```\n",
    "% \n",
    "% Now we are ready to read in the data using pandas.\n",
    "% \n",
    "% In the case of this health districts excel the header is located on the 4th row (index 3) of the excel spreadsheet.\n",
    "% \n",
    "% ```{code-cell}\n",
    "% # Read in the excel spreadsheet\n",
    "% data = pd.read_excel(r\"data/Shp_jäsenkunnat_2020.xls\", sheet_name=\"kunnat_shp_2020_ aakkosjärj.\", header=3)\n",
    "% ```\n",
    "% \n",
    "% ```{code-cell}\n",
    "% data.head()\n",
    "% ```\n",
    "% \n",
    "% In addition, the first row after the header is empty. We can get rid of it using the dropna() -function:\n",
    "% \n",
    "% ```{code-cell}\n",
    "% data.dropna(inplace=True)\n",
    "% ```\n",
    "% \n",
    "% Check number of rows (16 Åland municipalities are missing)\n",
    "% \n",
    "% ```{code-cell}\n",
    "% len(data)\n",
    "% ```\n",
    "% \n",
    "% The data needs some fixing and cleaning after reading the excel sheet\n",
    "% \n",
    "% ```{code-cell}\n",
    "% # Rename columns from Finnish to English \n",
    "% data.rename(columns={\"kunta-\\nkoodi\":\"code\", 'sairaanhoitopiiri':'healthCareDistrict'}, inplace=True)\n",
    "% \n",
    "% # Select only useful columns\n",
    "% data = data[['code','healthCareDistrict']]\n",
    "% ```\n",
    "% \n",
    "% ```{code-cell}\n",
    "% data\n",
    "% ```\n",
    "% \n",
    "% Looks better! Now we need to prepare the data for table join. We will use the municipality code as the common key.\n",
    "% \n",
    "% ```{code-cell}\n",
    "% data.dtypes\n",
    "% ```\n",
    "% \n",
    "% The code column is currently a floating point number. We need to modify these codes so that they match the ones in the spatial data:\n",
    "% \n",
    "% ```{code-cell}\n",
    "% # Example using one code\n",
    "% number = data.at[1, \"code\"]\n",
    "% number\n",
    "% ```\n",
    "% \n",
    "% ```{code-cell}\n",
    "% # Conver this number to character string 020\n",
    "% print(\"20\".zfill(3))\n",
    "% ```\n",
    "% \n",
    "% Let's apply this process on all rows at once, and take into account different number of digits:\n",
    "% \n",
    "% ```{code-cell}\n",
    "% # Convert to character string\n",
    "% data[\"code\"] = data[\"code\"].astype(int).astype('str')\n",
    "% \n",
    "% # Add missing zeros to municipality codes\n",
    "% data[\"code\"] = data[\"code\"].str.zfill(3)\n",
    "% ```\n",
    "% \n",
    "% ```{code-cell}\n",
    "% data.head()\n",
    "% ```\n",
    "% \n",
    "% ## Join Health district info to the municipality polygons\n",
    "% \n",
    "% ```{code-cell}\n",
    "% # Merge health district info to geodata using \"code\" as the common key\n",
    "% geodata = geodata.merge(data, on=\"code\", how=\"left\")\n",
    "% ```\n",
    "% \n",
    "% ```{code-cell}\n",
    "% geodata\n",
    "% ```\n",
    "% \n",
    "% Looks good! However, Municipalities in the Åland island did not have a matching health care district in the data. Let's have a closer look:\n",
    "% \n",
    "% ```{code-cell}\n",
    "% # List all municipalities that lack health district info:\n",
    "% geodata[geodata[\"healthCareDistrict\"].isnull()].name\n",
    "% ```\n",
    "% \n",
    "% ```{code-cell}\n",
    "% # Update \"Ahvenanmaa\" as the health care district for Åland municipalities (16 municipalities in total)\n",
    "% geodata.loc[geodata[\"healthCareDistrict\"].isnull(), \"healthCareDistrict\"] = \"Ahvenanmaa\"\n",
    "% ```\n",
    "% \n",
    "% Check the count of municipalities per health care disctrict\n",
    "% \n",
    "% ```{code-cell}\n",
    "% geodata[\"healthCareDistrict\"].value_counts()\n",
    "% ```\n",
    "% \n",
    "% ## Create polygons for health care districts\n",
    "% \n",
    "% ```{code-cell}\n",
    "% # Dissolve (=combine) municipality polygon geometries for each health care district\n",
    "% districts = geodata.dissolve(by='healthCareDistrict')\n",
    "% ```\n",
    "% \n",
    "% ```{code-cell}\n",
    "% districts.reset_index(inplace=True)\n",
    "% ```\n",
    "% \n",
    "% ```{code-cell}\n",
    "% # Select useful columns\n",
    "% districts = districts[[\"healthCareDistrict\", \"geometry\"]]\n",
    "% ```\n",
    "% \n",
    "% ```{code-cell}\n",
    "% districts\n",
    "% ```\n",
    "% \n",
    "% ```{code-cell}\n",
    "% districts.plot(column='healthCareDistrict', cmap='tab20', k=20)\n",
    "% plt.axis('off')\n",
    "% ```\n",
    "% \n",
    "% ```{code-cell}\n",
    "% # Write GeoJSON in original projection\n",
    "% districts.to_file(\"healthDistrictsEPSG3067.geojson\", driver='GeoJSON', encoding='utf-8')\n",
    "% ```\n",
    "% \n",
    "% ```{code-cell}\n",
    "% # Re-project to WGS84 and save again\n",
    "% wgs84 = CRS.from_epsg(4326)\n",
    "% districts.to_crs(wgs84).to_file(\"healthDistrictsEPSG4326.geojson\", driver='GeoJSON', encoding='utf-8')\n",
    "% ```\n",
    "% \n",
    "% That's it! You can elaborate this workflow by joining additional data. For example, if you join population info per municipality you can sum it up for each health care district using the `aggfunc=sum` argument to get population count per health care district."
   ]
  },
  {
   "cell_type": "markdown",
   "id": "d467eb04",
   "metadata": {},
   "source": []
  }
 ],
 "metadata": {
  "kernelspec": {
   "display_name": "Python 3 (ipykernel)",
   "language": "python",
   "name": "python3"
  },
  "language_info": {
   "codemirror_mode": {
    "name": "ipython",
    "version": 3
   },
   "file_extension": ".py",
   "mimetype": "text/x-python",
   "name": "python",
   "nbconvert_exporter": "python",
   "pygments_lexer": "ipython3",
   "version": "3.10.8"
  }
 },
 "nbformat": 4,
 "nbformat_minor": 5
}
