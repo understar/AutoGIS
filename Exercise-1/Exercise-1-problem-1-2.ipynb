{
  "cells": [
    {
      "cell_type": "markdown",
      "metadata": {
        "deletable": false,
        "editable": false,
        "tags": []
      },
      "source": [
        "## Problem 1: Creating basic geometries (*5 points*)\n",
        "\n",
        "In this problem, you will create custom functions that create geometry objects. \n",
        "We start with a very simple function, and proceed to creating functions that can handle invalid input values.    "
      ]
    },
    {
      "cell_type": "markdown",
      "metadata": {
        "deletable": false,
        "editable": false,
        "jp-MarkdownHeadingCollapsed": true,
        "tags": []
      },
      "source": [
        "\n",
        "----\n",
        "\n",
        "#### (1a)\n",
        "\n",
        "Create a function called **`create_point_geometry()`** that accepts two parameters, `x_coord` and `y_coord`. \n",
        "The function should return a `shapely.geometry.Point` geometry object. "
      ]
    },
    {
      "cell_type": "code",
      "execution_count": 1,
      "metadata": {},
      "outputs": [],
      "source": [
        "from shapely.geometry import Point"
      ]
    },
    {
      "cell_type": "code",
      "execution_count": 36,
      "metadata": {
        "tags": []
      },
      "outputs": [],
      "source": [
        "def create_point_geometry(x_coord, y_coord):\n",
        "    \"\"\"Create a Point from (x, y) coordinate.\"\"\"\n",
        "    return Point(x_coord, y_coord)"
      ]
    },
    {
      "cell_type": "markdown",
      "metadata": {
        "deletable": false,
        "editable": false
      },
      "source": [
        "Test your function by running the following code cell:"
      ]
    },
    {
      "cell_type": "code",
      "execution_count": 3,
      "metadata": {
        "deletable": false,
        "editable": false
      },
      "outputs": [
        {
          "name": "stdout",
          "output_type": "stream",
          "text": [
            "POINT (0 1.1)\n",
            "Point\n"
          ]
        }
      ],
      "source": [
        "# NON-EDITABLE CODE CELL FOR TESTING YOUR SOLUTION\n",
        "point1 = create_point_geometry(0.0, 1.1)\n",
        "print(point1)\n",
        "print(point1.geom_type)"
      ]
    },
    {
      "cell_type": "markdown",
      "metadata": {
        "deletable": false,
        "editable": false,
        "jp-MarkdownHeadingCollapsed": true,
        "tags": []
      },
      "source": [
        "\n",
        "----\n",
        "\n",
        "#### (1b)\n",
        "\n",
        "Create a function called **`create_line_geometry()`** that takes a list of `shapely.geometry.Point`s as\n",
        "an argument, and returns a `shapely.geometry.LineString` object of those input points.\n",
        "\n",
        "In addition, you should validate the function input using `assert` statements (see \n",
        "[lesson 6 of the Geo-Python course](https://geo-python-site.readthedocs.io/en/latest/notebooks/L6/gcp-5-assertions.html)\n",
        "and the [hints for this exercise](https://autogis-site.readthedocs.io/en/latest/lessons/L1/exercise-1.html#hints)):\n",
        "\n",
        "  - Inside the function, first check that the input is a **list**. If something else than a list is\n",
        "    passed, raise the following error: \"Input should be a list\".\n",
        "  - Use `assert` to check that the input list contains **at least** two values. Otherwise, raise the error: \"At\n",
        "    minimum two points are required for a LineString\"\n",
        "  - *(optional)* Use `assert` to check that all values in the input list are `shapely.geometry.Point`s.\n",
        "    Otherwise, raise the error: \"All list values must be of type shapely.geometry.Point\"\n",
        "  "
      ]
    },
    {
      "cell_type": "code",
      "execution_count": 5,
      "metadata": {},
      "outputs": [
        {
          "data": {
            "text/plain": [
              "True"
            ]
          },
          "execution_count": 5,
          "metadata": {},
          "output_type": "execute_result"
        }
      ],
      "source": [
        "temp = [1, 2, 3]\n",
        "type(temp) == list"
      ]
    },
    {
      "cell_type": "code",
      "execution_count": 37,
      "metadata": {
        "tags": []
      },
      "outputs": [],
      "source": [
        "from shapely.geometry import LineString\n",
        "\n",
        "def create_line_geometry(points):\n",
        "    \"\"\"Create a line from points list.\"\"\"\n",
        "    # We can use all function.\n",
        "    # all(list)\n",
        "    # any(list)\n",
        "    def is_all_point(points):\n",
        "        for pt in points:\n",
        "            if not isinstance(pt, Point):\n",
        "                return False\n",
        "        return True\n",
        "    \n",
        "    assert type(points) == list, \"Input should be a list\"\n",
        "    assert len(points) >= 2, \"At minimum two points are required for a LineString\"\n",
        "    assert is_all_point(points), \"All list values must be of type shapely.geometry.Point\"\n",
        "    return LineString(points)"
      ]
    },
    {
      "cell_type": "markdown",
      "metadata": {
        "deletable": false,
        "editable": false
      },
      "source": [
        "Demonstrate how to use your function:\n",
        "Create a line object with two points, `Point(45.2, 22.34)` and `Point(100.22, -3.20)`, and store the result in a variable called `line1`."
      ]
    },
    {
      "cell_type": "code",
      "execution_count": 8,
      "metadata": {},
      "outputs": [],
      "source": [
        "point1 = create_point_geometry(45.2, 22.34)\n",
        "point2 = create_point_geometry(100.22, -3.20)\n",
        "line1 = create_line_geometry([point1, point2])"
      ]
    },
    {
      "cell_type": "markdown",
      "metadata": {
        "deletable": false,
        "editable": false
      },
      "source": [
        "Run this code cell to check your solution:"
      ]
    },
    {
      "cell_type": "code",
      "execution_count": 9,
      "metadata": {
        "deletable": false,
        "editable": false
      },
      "outputs": [
        {
          "name": "stdout",
          "output_type": "stream",
          "text": [
            "LINESTRING (45.2 22.34, 100.22 -3.2)\n",
            "LineString\n"
          ]
        }
      ],
      "source": [
        "# NON-EDITABLE CODE CELL FOR TESTING YOUR SOLUTION\n",
        "print(line1)\n",
        "print(line1.geom_type)"
      ]
    },
    {
      "cell_type": "markdown",
      "metadata": {
        "deletable": false,
        "editable": false
      },
      "source": [
        "Check if your function checks the input correctly by running this code cell:"
      ]
    },
    {
      "cell_type": "code",
      "execution_count": 13,
      "metadata": {
        "deletable": false,
        "editable": false
      },
      "outputs": [
        {
          "name": "stdout",
          "output_type": "stream",
          "text": [
            "The function (correctly) detected an error. The error message was ‘All list values must be of type shapely.geometry.Point’\n"
          ]
        }
      ],
      "source": [
        "# NON-EDITABLE CODE CELL FOR TESTING YOUR SOLUTION\n",
        "try:\n",
        "    # Pass something else than a list\n",
        "    create_line_geometry(\"Give me a line!\")\n",
        "    # Pass one point\n",
        "    create_line_geometry([point1])\n",
        "    # Pass a non-point list\n",
        "    create_line_geometry([1, 2, 3])\n",
        "except AssertionError as exception:\n",
        "    print(f\"The function (correctly) detected an error. The error message was ‘{exception.args[0]}’\")\n",
        "except Exception as exception:\n",
        "    raise exception"
      ]
    },
    {
      "cell_type": "markdown",
      "metadata": {
        "deletable": false,
        "editable": false,
        "jp-MarkdownHeadingCollapsed": true,
        "tags": []
      },
      "source": [
        "\n",
        "----\n",
        "\n",
        "#### (1c)\n",
        "\n",
        "Create a function **`create_polygon_geometry()`** that accepts one parameter `coordinates`. `coordinates` should be *a list of\n",
        "coordinate tuples*. The function should create and return a `shapely.geometry.Polygon` object based on these coordinates.  \n",
        "\n",
        "Again, use `assert` statements to ensure the input arguments are valid:\n",
        "\n",
        "  - first check that the input is a **list**. If something else than a list is\n",
        "    passed, raise the following error: \"Input should be a list\".\n",
        "  - Check that the input list contains **at least three values**. Otherwise, raise the error: \"At\n",
        "    minimum three points are required for a polygon\"\n",
        "  - Check that all values in the input list are tuples of two values.\n",
        "    Otherwise, raise the error: \"All list values must be coordinate tuples\"\n",
        "  - *(optional)* check that all tuples’ values are instances of either `int` or `float`.\n",
        "\n",
        "*(Optional)* Write the function in a way that also allows the input to be a list of `shapely.geometry.Point`s.\n",
        "If `coords` contains `shapely.geometry.Point` objects, return a polygon based on these points.\n",
        "If the input is neither a list of tuples, nor a list of Points, raise an appropriate error message.\n",
        "  "
      ]
    },
    {
      "cell_type": "code",
      "execution_count": 38,
      "metadata": {},
      "outputs": [],
      "source": [
        "from shapely.geometry import Polygon\n",
        "def create_polygon_geometry(coordinates):\n",
        "    \"\"\"Create a polygon from point list or coordinates\"\"\"\n",
        "    assert isinstance(coordinates, list), \"Input should be a list\"\n",
        "    assert len(coordinates) >= 3, \"At minimum three points are required for a polygon\"\n",
        "    if(not isinstance(coordinates[0], Point)):\n",
        "        assert all([(isinstance(xy, tuple) and len(xy)==2) for xy in coordinates]), \"All list values must be coordiante tuples.\"\n",
        "        assert all([(isinstance(x, (int, float)) and isinstance(y, (int, float))) for x, y in coordinates]), \"All coordiantes should be int or float\"\n",
        "    return Polygon(shell=coordinates)"
      ]
    },
    {
      "cell_type": "markdown",
      "metadata": {
        "deletable": false,
        "editable": false
      },
      "source": [
        "Demonstrate how to use the function. \n",
        "For example, create a Polygon `polygon1` with three points: `(45.2, 22.34)`, `(100.22, -3.20)`, `(70.0, 10.20)`."
      ]
    },
    {
      "cell_type": "code",
      "execution_count": 16,
      "metadata": {},
      "outputs": [],
      "source": [
        "polygon1 = create_polygon_geometry([(45.2, 22.34), (100.22, -3.20), (70.0, 10.20)])"
      ]
    },
    {
      "cell_type": "markdown",
      "metadata": {
        "deletable": false,
        "editable": false
      },
      "source": [
        "Use the following code cell to test your solution:"
      ]
    },
    {
      "cell_type": "code",
      "execution_count": 17,
      "metadata": {
        "deletable": false,
        "editable": false
      },
      "outputs": [
        {
          "name": "stdout",
          "output_type": "stream",
          "text": [
            "POLYGON ((45.2 22.34, 100.22 -3.2, 70 10.2, 45.2 22.34))\n",
            "Polygon\n"
          ]
        }
      ],
      "source": [
        "# NON-EDITABLE CODE CELL FOR TESTING YOUR SOLUTION\n",
        "print(polygon1)\n",
        "print(polygon1.geom_type)"
      ]
    },
    {
      "cell_type": "markdown",
      "metadata": {
        "deletable": false,
        "editable": false
      },
      "source": [
        "Check if your function checks the length of the input correctly by running this code cell:"
      ]
    },
    {
      "cell_type": "code",
      "execution_count": 22,
      "metadata": {
        "deletable": false,
        "editable": false
      },
      "outputs": [
        {
          "name": "stdout",
          "output_type": "stream",
          "text": [
            "The function (correctly) detected an error. The error message was ‘All coordiantes should be int or float’\n"
          ]
        }
      ],
      "source": [
        "# NON-EDITABLE CODE CELL FOR TESTING YOUR SOLUTION\n",
        "try:\n",
        "    # Pass something else than a list\n",
        "    # create_polygon_geometry(\"Give me a polygon\")\n",
        "    # Pass less points\n",
        "    # create_polygon_geometry([(45.2, 22.34), (100.22, -3.20)])\n",
        "    # Pass wrong points\n",
        "    # create_polygon_geometry([(45.2, 22.34, 100), (100.22, -3.20), (110.22, 3.20)])\n",
        "    # Wrong type\n",
        "    create_polygon_geometry([(45.2, \"23.4\"), (100.22, -3.20), (70.0, 10.20)])\n",
        "\n",
        "                             \n",
        "except AssertionError as exception:\n",
        "    print(f\"The function (correctly) detected an error. The error message was ‘{exception.args[0]}’\")\n",
        "except Exception as exception:\n",
        "    raise exception"
      ]
    },
    {
      "cell_type": "markdown",
      "metadata": {
        "deletable": false,
        "editable": false
      },
      "source": [
        "\n",
        "----\n",
        "\n",
        "#### Done!\n",
        "\n",
        "That’s it. Now you are ready to continue with Problem 2. \n",
        "\n",
        "Remember to commit your code using `git` after each major code change (for example, after solving each problem). Remember also to upload (push) your files to your **own** personal GitHub repository for Exercise-1.\n"
      ]
    },
    {
      "cell_type": "markdown",
      "metadata": {
        "deletable": false,
        "editable": false
      },
      "source": [
        "## Problem 2: Attributes of geometries (*5 points*)\n",
        "\n",
        "In this problem, we look at the geometric properties of geometries, and how to access them."
      ]
    },
    {
      "cell_type": "markdown",
      "metadata": {
        "deletable": false,
        "editable": false,
        "jp-MarkdownHeadingCollapsed": true,
        "tags": []
      },
      "source": [
        "\n",
        "----\n",
        "\n",
        "#### (2a)\n",
        "\n",
        "Create a function called **`get_centroid()`** that accepts one parameter, `geom`. \n",
        "The function should take any kind of Shapely’s geometry objects (any instance of `shapely.geometry.base.BaseGeometry`)\n",
        "as an input, and return the centroid of that geometry. \n",
        "\n",
        "Make sure to validate the function’s input arguments using `assert` statements:\n",
        "\n",
        "  - check that the input is a `shapely.geometry.base.BaseGeometry` or one of its child classes.\n",
        "    Otherwise, raise the error \"Input must be a `shapely` geometry\".\n"
      ]
    },
    {
      "cell_type": "code",
      "execution_count": 39,
      "metadata": {},
      "outputs": [],
      "source": [
        "from shapely.geometry.base import BaseGeometry\n",
        "\n",
        "def get_centroid(geom):\n",
        "    \"\"\"Calculate the centroid of geometry.\"\"\"\n",
        "    assert issubclass(type(geom), BaseGeometry), \"Input must be a shapely geometry\"\n",
        "    return geom.centroid"
      ]
    },
    {
      "cell_type": "markdown",
      "metadata": {
        "deletable": false,
        "editable": false
      },
      "source": [
        "Test and demonstrate the usage of the function. You can, for example, create shapely objects using the functions you created in problem 1 and print out information about their centroids:\n"
      ]
    },
    {
      "cell_type": "code",
      "execution_count": null,
      "metadata": {},
      "outputs": [],
      "source": [
        "# ADD YOUR OWN CODE HERE\n"
      ]
    },
    {
      "cell_type": "code",
      "execution_count": 26,
      "metadata": {
        "deletable": false,
        "editable": false
      },
      "outputs": [
        {
          "name": "stdout",
          "output_type": "stream",
          "text": [
            "POINT (71.80666666666667 9.780000000000001)\n"
          ]
        }
      ],
      "source": [
        "# NON-EDITABLE CODE CELL FOR TESTING YOUR SOLUTION\n",
        "centroid = get_centroid(polygon1)\n",
        "print(centroid)"
      ]
    },
    {
      "cell_type": "markdown",
      "metadata": {
        "deletable": false,
        "editable": false
      },
      "source": [
        "Check that the assertion error works correctly:"
      ]
    },
    {
      "cell_type": "code",
      "execution_count": 27,
      "metadata": {
        "deletable": false,
        "editable": false
      },
      "outputs": [
        {
          "name": "stdout",
          "output_type": "stream",
          "text": [
            "The function (correctly) detected an error. The error message was ‘Input must be a shapely geometry’\n"
          ]
        }
      ],
      "source": [
        "# NON-EDITABLE CODE CELL FOR TESTING YOUR SOLUTION\n",
        "try:\n",
        "    # Pass something else than a Shapely geometry\n",
        "    get_centroid(\"Give me a centroid!\")\n",
        "except AssertionError as exception:\n",
        "    print(f\"The function (correctly) detected an error. The error message was ‘{exception.args[0]}’\")\n",
        "except Exception as exception:\n",
        "    raise exception"
      ]
    },
    {
      "cell_type": "markdown",
      "metadata": {
        "deletable": false,
        "editable": false,
        "jp-MarkdownHeadingCollapsed": true,
        "tags": []
      },
      "source": [
        "\n",
        "----\n",
        "\n",
        "#### (2b)\n",
        "\n",
        "Create a function **`get_area()`** accepting one parameter `polygon`. \n",
        "\n",
        "The function should accept a `shapely.geometry.Polygon` and return its area. \n",
        "Again, use `assert` to make sure the input values are valid, in particular, check that:\n",
        "- the input is a `shapely.geometry.Polygon`. If the argument is anything else, \n",
        "  raise an error: \"Input should be a `shapely.geometry.Polygon`\"."
      ]
    },
    {
      "cell_type": "code",
      "execution_count": 40,
      "metadata": {},
      "outputs": [],
      "source": [
        "def get_area(polygon):\n",
        "    \"\"\"Calculate the area of polygon.\"\"\"\n",
        "    assert isinstance(polygon, Polygon), \"Input should be a shapely.geometry.Polygon\"\n",
        "    return polygon.area"
      ]
    },
    {
      "cell_type": "markdown",
      "metadata": {
        "deletable": false,
        "editable": false
      },
      "source": [
        "Test and demonstrate how to use the function:"
      ]
    },
    {
      "cell_type": "code",
      "execution_count": null,
      "metadata": {},
      "outputs": [],
      "source": [
        "# ADD YOUR OWN CODE HERE\n"
      ]
    },
    {
      "cell_type": "code",
      "execution_count": 29,
      "metadata": {
        "deletable": false,
        "editable": false
      },
      "outputs": [
        {
          "name": "stdout",
          "output_type": "stream",
          "text": [
            "17.28\n"
          ]
        }
      ],
      "source": [
        "# NON-EDITABLE CODE CELL FOR TESTING YOUR SOLUTION\n",
        "area = get_area(polygon1)\n",
        "print(round(area, 2))"
      ]
    },
    {
      "cell_type": "markdown",
      "metadata": {
        "deletable": false,
        "editable": false
      },
      "source": [
        "Check that the assertion works:"
      ]
    },
    {
      "cell_type": "code",
      "execution_count": 30,
      "metadata": {
        "deletable": false,
        "editable": false
      },
      "outputs": [
        {
          "name": "stdout",
          "output_type": "stream",
          "text": [
            "The function (correctly) detected an error. The error message was ‘Input should be a shapely.geometry.Polygon’\n"
          ]
        }
      ],
      "source": [
        "# NON-EDITABLE CODE CELL FOR TESTING YOUR SOLUTION\n",
        "try:\n",
        "    # Pass something else than a Shapely geometry\n",
        "    get_area(\"Give me an area!\")\n",
        "except AssertionError as exception:\n",
        "    print(f\"The function (correctly) detected an error. The error message was ‘{exception.args[0]}’\")\n",
        "except Exception as exception:\n",
        "    raise exception"
      ]
    },
    {
      "cell_type": "markdown",
      "metadata": {
        "deletable": false,
        "editable": false,
        "jp-MarkdownHeadingCollapsed": true,
        "tags": []
      },
      "source": [
        "\n",
        "----\n",
        "\n",
        "#### (2c)\n",
        "\n",
        "Create a function **`get_length()`** accepting one parameter, `geometry`. \n",
        "\n",
        "The function should accept either a `shapely.geometry.LineString` or a `shapely.geometry.Polygon` as input.\n",
        "Check the type of the input and return the length of the line if input is a LineString and length of the\n",
        "exterior ring if the input is a Polygon. \n",
        "\n",
        "If something else is passed to the function, raise an error \"‘geometry’ should be either a LineString or a Polygon\". Use `assert` or (advanced, optional) [raise a `ValueError` exception](https://docs.python.org/3/tutorial/errors.html#handling-exceptions).\n"
      ]
    },
    {
      "cell_type": "code",
      "execution_count": 41,
      "metadata": {},
      "outputs": [],
      "source": [
        "def get_length(geometry):\n",
        "    \"\"\"Calculate the length of LineString or Polygon.\"\"\"\n",
        "    assert isinstance(geometry, (LineString, Polygon)), \"Input should be a LineString or Polygon\"\n",
        "    if not isinstance(geometry, (LineString, Polygon)):\n",
        "        raise ValueError()\n",
        "    if isinstance(geometry, LineString):\n",
        "        return geometry.length\n",
        "    if isinstance(geometry, Polygon):\n",
        "        return geometry.exterior.length"
      ]
    },
    {
      "cell_type": "markdown",
      "metadata": {
        "deletable": false,
        "editable": false
      },
      "source": [
        "Test and demonstrate the usage of the function:"
      ]
    },
    {
      "cell_type": "code",
      "execution_count": null,
      "metadata": {},
      "outputs": [],
      "source": [
        "# ADD YOUR OWN CODE HERE\n"
      ]
    },
    {
      "cell_type": "code",
      "execution_count": 35,
      "metadata": {
        "deletable": false,
        "editable": false
      },
      "outputs": [
        {
          "name": "stdout",
          "output_type": "stream",
          "text": [
            "Line length: 60.66\n",
            "Polygon exterior length: 121.33\n",
            "The function (correctly) detected an error. The error message was ‘Input should be a LineString or Polygon’\n"
          ]
        }
      ],
      "source": [
        "# NON-EDITABLE CODE CELL FOR TESTING YOUR SOLUTION\n",
        "line_length = get_length(line1)\n",
        "print(\"Line length:\", round(line_length,2))\n",
        "\n",
        "poly_exterior_length = get_length(polygon1)\n",
        "print(\"Polygon exterior length:\", round(poly_exterior_length,2))\n",
        "\n",
        "try:\n",
        "    # Pass something else than a Shapely LineString or Polygon\n",
        "    get_length(Point(1,2))\n",
        "except (AssertionError, ValueError) as exception:\n",
        "    print(f\"The function (correctly) detected an error. The error message was ‘{exception.args[0]}’\")\n",
        "except Exception as exception:\n",
        "    raise exception"
      ]
    },
    {
      "cell_type": "markdown",
      "metadata": {
        "deletable": false,
        "editable": false,
        "jp-MarkdownHeadingCollapsed": true,
        "tags": []
      },
      "source": [
        "\n",
        "----\n",
        "\n",
        "## Docstrings\n",
        "\n",
        "Did you add a docstring to all the functions you defined? If not, add them now :) A short one-line docstring is enough in this exercise."
      ]
    },
    {
      "cell_type": "markdown",
      "metadata": {
        "deletable": false,
        "editable": false
      },
      "source": [
        "You can run the code cell below to check all the docstrings:"
      ]
    },
    {
      "cell_type": "code",
      "execution_count": 42,
      "metadata": {
        "deletable": false,
        "editable": false
      },
      "outputs": [
        {
          "name": "stdout",
          "output_type": "stream",
          "text": [
            "My functions:\n",
            "\n",
            "- create_point_geometry: Create a Point from (x, y) coordinate.\n",
            "- create_line_geometry: Create a line from points list.\n",
            "- create_polygon_geometry: Create a polygon from point list or coordinates\n",
            "- get_centroid: Calculate the centroid of geometry.\n",
            "- get_area: Calculate the area of polygon.\n",
            "- get_length: Calculate the length of LineString or Polygon.\n"
          ]
        }
      ],
      "source": [
        "# NON-EDITABLE CODE CELL FOR TESTING YOUR SOLUTION\n",
        "\n",
        "# List all functions we created\n",
        "functions = [\n",
        "    create_point_geometry,\n",
        "    create_line_geometry,\n",
        "    create_polygon_geometry,\n",
        "    get_centroid,\n",
        "    get_area,\n",
        "    get_length\n",
        "]\n",
        "\n",
        "print(\"My functions:\\n\")\n",
        "\n",
        "for function in functions:\n",
        "    # print function name and docstring:\n",
        "    print(\"-\", function.__name__ +\":\", function.__doc__)"
      ]
    },
    {
      "cell_type": "markdown",
      "metadata": {
        "deletable": false,
        "editable": false
      },
      "source": [
        "\n",
        "----\n",
        "\n",
        "Don’t forget to upload your code and edits to your **own** personal GitHub repository for Exercise-1.\n",
        "\n",
        "#### Done!\n",
        "\n",
        "That's it. Now you are ready to continue with Problem 3. "
      ]
    }
  ],
  "metadata": {
    "kernelspec": {
      "display_name": "Python 3 (ipykernel)",
      "language": "python",
      "name": "python3"
    },
    "language_info": {
      "codemirror_mode": {
        "name": "ipython",
        "version": 3
      },
      "file_extension": ".py",
      "mimetype": "text/x-python",
      "name": "python",
      "nbconvert_exporter": "python",
      "pygments_lexer": "ipython3",
      "version": "3.11.4"
    }
  },
  "nbformat": 4,
  "nbformat_minor": 4
}
