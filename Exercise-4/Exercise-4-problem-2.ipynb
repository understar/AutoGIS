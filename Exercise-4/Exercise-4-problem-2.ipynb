{
 "cells": [
  {
   "cell_type": "markdown",
   "metadata": {
    "deletable": false,
    "editable": false,
    "tags": []
   },
   "source": [
    "## Problem 2: Calculate and visualise the *dominance areas* of shopping centres (10 points)\n",
    "\n",
    "In this problem, the aim is to delineate the dominance area of each shopping centre. For this \n",
    "exercise, we define the ‘dominance area’ of a shopping centre as the area from which it can \n",
    "be reached faster than other shopping centres. We will use public transport travel times.\n",
    "\n",
    "![](images/dominance_areas_example_1000x500px.png)\n",
    "\n",
    "*Sample result: a map showing the areas of dominance of each shopping centre, and the travel \n",
    "times to the closest shopping centre in the entire metropolitan area*\n"
   ]
  },
  {
   "cell_type": "markdown",
   "metadata": {
    "deletable": false,
    "editable": false
   },
   "source": [
    "\n",
    "---\n",
    "\n",
    "### Data\n",
    "\n",
    "The **input data** is identical to what you have used for *problem 1*, \n",
    "see [there](./Exercise-4-problem-1.ipynb) for detailed data descriptions.\n",
    "\n",
    "---\n",
    "\n",
    "\n",
    "### An overview of the tasks\n",
    "\n",
    "This task comprises of three major subtasks. In contrast to earlier exercises, we \n",
    "do not provide a detailed, step-by-step ‘cooking recipe’. Rather, you are free to\n",
    "implement the necessary steps in any order you see fit, and choose any variable\n",
    "names of your liking. \n",
    "\n",
    "To test intermediate results, implement `assert` statements, output the `head()`\n",
    "of a data frame, or plot the data. Remember to add comments to all of your code,\n",
    "so future you (and us) can understand what each section does.\n",
    "\n",
    "The **only strict requirement** is the **file name** of\n",
    "the **output** map plot: `DATA_DIRECTORY / \"dominance_areas.png\"`.\n",
    "\n",
    "1. Load the YKR grid and the individual travel time data sets, and combine them \n",
    "   into one geo data frame. This is essentially the same as *problem 1*, except\n",
    "   that you must load all eight shopping centre data files.\n",
    "2. Find the closest shopping centre to each grid cell. In the combined data set,\n",
    "   find the minimum travel time to any of the shopping centres, save the value in\n",
    "   a new column, and shopping centre name in another new column.\n",
    "   See the [hints](https://autogis-site.readthedocs.io/en/latest/lessons/lesson-4/exercise-4.html#hints)\n",
    "   to this exercise for a suggestions on how to achieve this \n",
    "   ([`pandas.DataFrame.min()`](https://pandas.pydata.org/pandas-docs/stable/reference/api/pandas.DataFrame.min.html) and\n",
    "   [`pandas.DataFrame.idxmin()`](https://pandas.pydata.org/pandas-docs/stable/reference/api/pandas.DataFrame.idxmin.html)\n",
    "   will be helpful)\n",
    "3. Visualise the dominance areas and travel times. Use 2⨉1 subplots to plot\n",
    "   the most dominant (closest) shopping centre for each grid cell, and the\n",
    "   travel time to the closest shopping centre for each grid cell.\n",
    "\n",
    "---\n"
   ]
  },
  {
   "cell_type": "code",
   "execution_count": 1,
   "metadata": {
    "deletable": false,
    "editable": false
   },
   "outputs": [],
   "source": [
    "import pathlib \n",
    "NOTEBOOK_PATH = pathlib.Path().resolve()\n",
    "DATA_DIRECTORY = NOTEBOOK_PATH / \"data\""
   ]
  },
  {
   "cell_type": "code",
   "execution_count": 14,
   "metadata": {
    "tags": []
   },
   "outputs": [],
   "source": [
    "# ADD YOUR OWN CODE HERE\n",
    "import geopandas as gpd\n",
    "\n",
    "grid = gpd.read_file(\n",
    "    DATA_DIRECTORY / \"YKR_grid_EPSG3067.gpkg\"\n",
    ")"
   ]
  },
  {
   "cell_type": "code",
   "execution_count": 15,
   "metadata": {
    "tags": []
   },
   "outputs": [
    {
     "name": "stdout",
     "output_type": "stream",
     "text": [
      "travel_times_to_5980260_Ruoholahti.txt\n",
      "travel_times_to_5902043_Myyrmanni.txt\n",
      "travel_times_to_5878087_Dixi.txt\n",
      "travel_times_to_5878070_Jumbo.txt\n",
      "travel_times_to_5978593_Iso_Omena.txt\n",
      "travel_times_to_5944003_Itis.txt\n",
      "travel_times_to_5975373_Forum.txt\n"
     ]
    }
   ],
   "source": [
    "# ADD YOUR OWN CODE HERE\n",
    "import pandas as pd\n",
    "import numpy as np\n",
    "\n",
    "# read and process each shopping center\n",
    "for fp in DATA_DIRECTORY.glob(\"travel_times_to_*.txt\"):\n",
    "    print(fp.name)\n",
    "    # travel_times_to_5980260_Ruoholahti.txt\n",
    "    shopping_centre = fp.name[24:-4]\n",
    "    if f\"pt_r_t_{shopping_centre}\" in grid.columns:\n",
    "        continue\n",
    "    data = pd.read_csv(\n",
    "        fp,\n",
    "        sep=\";\",\n",
    "        usecols=['from_id', 'to_id', 'pt_r_t']\n",
    "    )\n",
    "    data = data.rename(columns={\n",
    "        \"pt_r_t\": shopping_centre\n",
    "    })\n",
    "    data[shopping_centre] = data[shopping_centre].replace(-1, np.inf)\n",
    "\n",
    "    grid = grid.merge(data, how='left', left_on='YKR_ID', right_on='from_id') # left key = right key\n",
    "    grid = grid.drop(columns=[\"from_id\", \"to_id\"])"
   ]
  },
  {
   "cell_type": "code",
   "execution_count": 16,
   "metadata": {
    "tags": []
   },
   "outputs": [
    {
     "data": {
      "text/html": [
       "<div>\n",
       "<style scoped>\n",
       "    .dataframe tbody tr th:only-of-type {\n",
       "        vertical-align: middle;\n",
       "    }\n",
       "\n",
       "    .dataframe tbody tr th {\n",
       "        vertical-align: top;\n",
       "    }\n",
       "\n",
       "    .dataframe thead th {\n",
       "        text-align: right;\n",
       "    }\n",
       "</style>\n",
       "<table border=\"1\" class=\"dataframe\">\n",
       "  <thead>\n",
       "    <tr style=\"text-align: right;\">\n",
       "      <th></th>\n",
       "      <th>YKR_ID</th>\n",
       "      <th>geometry</th>\n",
       "      <th>Ruoholahti</th>\n",
       "      <th>Myyrmanni</th>\n",
       "      <th>Dixi</th>\n",
       "      <th>Jumbo</th>\n",
       "      <th>Iso_Omena</th>\n",
       "      <th>Itis</th>\n",
       "      <th>Forum</th>\n",
       "    </tr>\n",
       "  </thead>\n",
       "  <tbody>\n",
       "    <tr>\n",
       "      <th>0</th>\n",
       "      <td>5785640</td>\n",
       "      <td>POLYGON ((382000.000 6697750.000, 381750.000 6...</td>\n",
       "      <td>118.0</td>\n",
       "      <td>90.0</td>\n",
       "      <td>102.0</td>\n",
       "      <td>101.0</td>\n",
       "      <td>141.0</td>\n",
       "      <td>132.0</td>\n",
       "      <td>110.0</td>\n",
       "    </tr>\n",
       "    <tr>\n",
       "      <th>1</th>\n",
       "      <td>5785641</td>\n",
       "      <td>POLYGON ((382250.000 6697750.000, 382000.000 6...</td>\n",
       "      <td>121.0</td>\n",
       "      <td>93.0</td>\n",
       "      <td>109.0</td>\n",
       "      <td>108.0</td>\n",
       "      <td>143.0</td>\n",
       "      <td>135.0</td>\n",
       "      <td>113.0</td>\n",
       "    </tr>\n",
       "    <tr>\n",
       "      <th>2</th>\n",
       "      <td>5785642</td>\n",
       "      <td>POLYGON ((382500.000 6697750.000, 382250.000 6...</td>\n",
       "      <td>123.0</td>\n",
       "      <td>95.0</td>\n",
       "      <td>111.0</td>\n",
       "      <td>109.0</td>\n",
       "      <td>145.0</td>\n",
       "      <td>137.0</td>\n",
       "      <td>115.0</td>\n",
       "    </tr>\n",
       "    <tr>\n",
       "      <th>3</th>\n",
       "      <td>5785643</td>\n",
       "      <td>POLYGON ((382750.000 6697750.000, 382500.000 6...</td>\n",
       "      <td>127.0</td>\n",
       "      <td>99.0</td>\n",
       "      <td>115.0</td>\n",
       "      <td>114.0</td>\n",
       "      <td>149.0</td>\n",
       "      <td>141.0</td>\n",
       "      <td>119.0</td>\n",
       "    </tr>\n",
       "    <tr>\n",
       "      <th>4</th>\n",
       "      <td>5787544</td>\n",
       "      <td>POLYGON ((381250.000 6697500.000, 381000.000 6...</td>\n",
       "      <td>111.0</td>\n",
       "      <td>83.0</td>\n",
       "      <td>99.0</td>\n",
       "      <td>98.0</td>\n",
       "      <td>134.0</td>\n",
       "      <td>125.0</td>\n",
       "      <td>103.0</td>\n",
       "    </tr>\n",
       "  </tbody>\n",
       "</table>\n",
       "</div>"
      ],
      "text/plain": [
       "    YKR_ID                                           geometry  Ruoholahti  \\\n",
       "0  5785640  POLYGON ((382000.000 6697750.000, 381750.000 6...       118.0   \n",
       "1  5785641  POLYGON ((382250.000 6697750.000, 382000.000 6...       121.0   \n",
       "2  5785642  POLYGON ((382500.000 6697750.000, 382250.000 6...       123.0   \n",
       "3  5785643  POLYGON ((382750.000 6697750.000, 382500.000 6...       127.0   \n",
       "4  5787544  POLYGON ((381250.000 6697500.000, 381000.000 6...       111.0   \n",
       "\n",
       "   Myyrmanni   Dixi  Jumbo  Iso_Omena   Itis  Forum  \n",
       "0       90.0  102.0  101.0      141.0  132.0  110.0  \n",
       "1       93.0  109.0  108.0      143.0  135.0  113.0  \n",
       "2       95.0  111.0  109.0      145.0  137.0  115.0  \n",
       "3       99.0  115.0  114.0      149.0  141.0  119.0  \n",
       "4       83.0   99.0   98.0      134.0  125.0  103.0  "
      ]
     },
     "execution_count": 16,
     "metadata": {},
     "output_type": "execute_result"
    }
   ],
   "source": [
    "# ADD YOUR OWN CODE HERE\n",
    "grid.head()"
   ]
  },
  {
   "cell_type": "code",
   "execution_count": 17,
   "metadata": {
    "tags": []
   },
   "outputs": [],
   "source": [
    "# ADD YOUR OWN CODE HERE\n",
    "if \"dominance_centre\" in grid.columns:\n",
    "    grid = grid.drop(columns=[\"dominance_centre\"])\n",
    "grid[\"dominance_centre\"] = grid.drop(columns=['YKR_ID', 'geometry']).idxmin(axis=1)\n",
    "# grid[\"dominance_centre\"] = grid[[\"dominance_centre\"]].apply(lambda x : x[7:])"
   ]
  },
  {
   "cell_type": "code",
   "execution_count": 20,
   "metadata": {},
   "outputs": [],
   "source": [
    "# ADD YOUR OWN CODE HERE\n",
    "if \"dominance_time\" in grid.columns:\n",
    "    grid = grid.drop(columns=[\"dominance_time\"])\n",
    "grid[\"dominance_time\"] = grid.drop(columns=['YKR_ID', 'geometry', 'dominance_centre']).min(axis=1)"
   ]
  },
  {
   "cell_type": "code",
   "execution_count": 21,
   "metadata": {},
   "outputs": [
    {
     "data": {
      "text/html": [
       "<div>\n",
       "<style scoped>\n",
       "    .dataframe tbody tr th:only-of-type {\n",
       "        vertical-align: middle;\n",
       "    }\n",
       "\n",
       "    .dataframe tbody tr th {\n",
       "        vertical-align: top;\n",
       "    }\n",
       "\n",
       "    .dataframe thead th {\n",
       "        text-align: right;\n",
       "    }\n",
       "</style>\n",
       "<table border=\"1\" class=\"dataframe\">\n",
       "  <thead>\n",
       "    <tr style=\"text-align: right;\">\n",
       "      <th></th>\n",
       "      <th>YKR_ID</th>\n",
       "      <th>geometry</th>\n",
       "      <th>Ruoholahti</th>\n",
       "      <th>Myyrmanni</th>\n",
       "      <th>Dixi</th>\n",
       "      <th>Jumbo</th>\n",
       "      <th>Iso_Omena</th>\n",
       "      <th>Itis</th>\n",
       "      <th>Forum</th>\n",
       "      <th>dominance_centre</th>\n",
       "      <th>dominance_time</th>\n",
       "    </tr>\n",
       "  </thead>\n",
       "  <tbody>\n",
       "    <tr>\n",
       "      <th>0</th>\n",
       "      <td>5785640</td>\n",
       "      <td>POLYGON ((382000.000 6697750.000, 381750.000 6...</td>\n",
       "      <td>118.0</td>\n",
       "      <td>90.0</td>\n",
       "      <td>102.0</td>\n",
       "      <td>101.0</td>\n",
       "      <td>141.0</td>\n",
       "      <td>132.0</td>\n",
       "      <td>110.0</td>\n",
       "      <td>Myyrmanni</td>\n",
       "      <td>90.0</td>\n",
       "    </tr>\n",
       "    <tr>\n",
       "      <th>1</th>\n",
       "      <td>5785641</td>\n",
       "      <td>POLYGON ((382250.000 6697750.000, 382000.000 6...</td>\n",
       "      <td>121.0</td>\n",
       "      <td>93.0</td>\n",
       "      <td>109.0</td>\n",
       "      <td>108.0</td>\n",
       "      <td>143.0</td>\n",
       "      <td>135.0</td>\n",
       "      <td>113.0</td>\n",
       "      <td>Myyrmanni</td>\n",
       "      <td>93.0</td>\n",
       "    </tr>\n",
       "    <tr>\n",
       "      <th>2</th>\n",
       "      <td>5785642</td>\n",
       "      <td>POLYGON ((382500.000 6697750.000, 382250.000 6...</td>\n",
       "      <td>123.0</td>\n",
       "      <td>95.0</td>\n",
       "      <td>111.0</td>\n",
       "      <td>109.0</td>\n",
       "      <td>145.0</td>\n",
       "      <td>137.0</td>\n",
       "      <td>115.0</td>\n",
       "      <td>Myyrmanni</td>\n",
       "      <td>95.0</td>\n",
       "    </tr>\n",
       "    <tr>\n",
       "      <th>3</th>\n",
       "      <td>5785643</td>\n",
       "      <td>POLYGON ((382750.000 6697750.000, 382500.000 6...</td>\n",
       "      <td>127.0</td>\n",
       "      <td>99.0</td>\n",
       "      <td>115.0</td>\n",
       "      <td>114.0</td>\n",
       "      <td>149.0</td>\n",
       "      <td>141.0</td>\n",
       "      <td>119.0</td>\n",
       "      <td>Myyrmanni</td>\n",
       "      <td>99.0</td>\n",
       "    </tr>\n",
       "    <tr>\n",
       "      <th>4</th>\n",
       "      <td>5787544</td>\n",
       "      <td>POLYGON ((381250.000 6697500.000, 381000.000 6...</td>\n",
       "      <td>111.0</td>\n",
       "      <td>83.0</td>\n",
       "      <td>99.0</td>\n",
       "      <td>98.0</td>\n",
       "      <td>134.0</td>\n",
       "      <td>125.0</td>\n",
       "      <td>103.0</td>\n",
       "      <td>Myyrmanni</td>\n",
       "      <td>83.0</td>\n",
       "    </tr>\n",
       "  </tbody>\n",
       "</table>\n",
       "</div>"
      ],
      "text/plain": [
       "    YKR_ID                                           geometry  Ruoholahti  \\\n",
       "0  5785640  POLYGON ((382000.000 6697750.000, 381750.000 6...       118.0   \n",
       "1  5785641  POLYGON ((382250.000 6697750.000, 382000.000 6...       121.0   \n",
       "2  5785642  POLYGON ((382500.000 6697750.000, 382250.000 6...       123.0   \n",
       "3  5785643  POLYGON ((382750.000 6697750.000, 382500.000 6...       127.0   \n",
       "4  5787544  POLYGON ((381250.000 6697500.000, 381000.000 6...       111.0   \n",
       "\n",
       "   Myyrmanni   Dixi  Jumbo  Iso_Omena   Itis  Forum dominance_centre  \\\n",
       "0       90.0  102.0  101.0      141.0  132.0  110.0        Myyrmanni   \n",
       "1       93.0  109.0  108.0      143.0  135.0  113.0        Myyrmanni   \n",
       "2       95.0  111.0  109.0      145.0  137.0  115.0        Myyrmanni   \n",
       "3       99.0  115.0  114.0      149.0  141.0  119.0        Myyrmanni   \n",
       "4       83.0   99.0   98.0      134.0  125.0  103.0        Myyrmanni   \n",
       "\n",
       "   dominance_time  \n",
       "0            90.0  \n",
       "1            93.0  \n",
       "2            95.0  \n",
       "3            99.0  \n",
       "4            83.0  "
      ]
     },
     "execution_count": 21,
     "metadata": {},
     "output_type": "execute_result"
    }
   ],
   "source": [
    "grid.head()"
   ]
  },
  {
   "cell_type": "code",
   "execution_count": 29,
   "metadata": {},
   "outputs": [
    {
     "name": "stderr",
     "output_type": "stream",
     "text": [
      "/Users/shuaiyizhang/Develop/AutoGIS/.venv/lib/python3.11/site-packages/mapclassify/classifiers.py:931: RuntimeWarning: invalid value encountered in subtract\n",
      "  css = yc - yc.mean()\n",
      "/Users/shuaiyizhang/Develop/AutoGIS/.venv/lib/python3.11/site-packages/mapclassify/classifiers.py:963: RuntimeWarning: invalid value encountered in scalar divide\n",
      "  gadf = 1 - self.adcm / adam\n"
     ]
    },
    {
     "data": {
      "text/plain": [
       "Text(0.5, 1.0, 'Travel Time')"
      ]
     },
     "execution_count": 29,
     "metadata": {},
     "output_type": "execute_result"
    },
    {
     "data": {
      "image/png": "[encoded data removed]",
      "text/plain": [
       "<Figure size 1200x800 with 2 Axes>"
      ]
     },
     "metadata": {},
     "output_type": "display_data"
    }
   ],
   "source": [
    "import matplotlib.pyplot as plt\n",
    "\n",
    "fig, axes = plt.subplots(ncols=2, nrows=1, figsize=(12,8))\n",
    "ax1 = axes[0]\n",
    "ax2 = axes[1]\n",
    "\n",
    "grid.plot(\n",
    "    ax=ax1,\n",
    "    column='dominance_centre',\n",
    "    linewidth=0,\n",
    "    legend=True\n",
    ")\n",
    "\n",
    "grid.plot(\n",
    "    ax=ax2,\n",
    "    column='dominance_time',\n",
    "    scheme='Quantiles',\n",
    "    linewidth=0,\n",
    ")\n",
    "ax1.set_title(\"Dominance Centre\")\n",
    "ax2.set_title(\"Travel Time\")"
   ]
  },
  {
   "cell_type": "code",
   "execution_count": 30,
   "metadata": {},
   "outputs": [],
   "source": [
    "fig.savefig(\n",
    "    DATA_DIRECTORY / \"dominance_areas.png\"\n",
    ")"
   ]
  },
  {
   "cell_type": "code",
   "execution_count": 31,
   "metadata": {
    "deletable": false,
    "editable": false,
    "tags": []
   },
   "outputs": [],
   "source": [
    "# NON-EDITABLE TEST CELL\n",
    "# Check that output figure file exists\n",
    "assert (DATA_DIRECTORY / \"dominance_areas.png\").exists()"
   ]
  },
  {
   "cell_type": "markdown",
   "metadata": {
    "deletable": false,
    "editable": false
   },
   "source": [
    "\n",
    "--- \n",
    "\n",
    "**Do not forget to plot the result map, and save it to `DATA_DIRECTORY / \"dominance_areas.png\"`!**\n",
    "\n",
    "---\n",
    "\n",
    "## Reflections\n",
    "\n",
    "This was a significantly more complex exercise that previous ones, and it included finding\n",
    "a solution yourself. \n",
    "\n",
    "- What was most difficult part? \n",
    "- Where did you get stuck? \n",
    "- What was the easiest, and\n",
    "- what was the most fun part of this exercise?\n",
    "\n",
    "Add your answer below"
   ]
  },
  {
   "cell_type": "markdown",
   "metadata": {
    "deletable": false,
    "editable": false
   },
   "source": [
    "\n",
    "---\n",
    "\n",
    "## Well done!\n",
    "\n",
    "Congratulations, you completed exercise 4. Good Job!"
   ]
  }
 ],
 "metadata": {
  "anaconda-cloud": {},
  "kernelspec": {
   "display_name": "Python 3 (ipykernel)",
   "language": "python",
   "name": "python3"
  },
  "language_info": {
   "codemirror_mode": {
    "name": "ipython",
    "version": 3
   },
   "file_extension": ".py",
   "mimetype": "text/x-python",
   "name": "python",
   "nbconvert_exporter": "python",
   "pygments_lexer": "ipython3",
   "version": "3.11.4"
  }
 },
 "nbformat": 4,
 "nbformat_minor": 4
}
